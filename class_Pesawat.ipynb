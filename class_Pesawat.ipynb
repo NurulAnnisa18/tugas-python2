{
  "nbformat": 4,
  "nbformat_minor": 0,
  "metadata": {
    "colab": {
      "provenance": [],
      "toc_visible": true
    },
    "kernelspec": {
      "name": "python3",
      "display_name": "Python 3"
    },
    "language_info": {
      "name": "python"
    }
  },
  "cells": [
    {
      "cell_type": "code",
      "execution_count": 10,
      "metadata": {
        "colab": {
          "base_uri": "https://localhost:8080/"
        },
        "id": "mKGBJ5aE778h",
        "outputId": "cbc24182-d302-4dd8-ae6b-cb5997f428b9"
      },
      "outputs": [
        {
          "output_type": "stream",
          "name": "stdout",
          "text": [
            "Pesawat Garuda Indonesia dengan tujuan Jakarta sedang dalam status: Parkir\n",
            "Pesawat Garuda Indonesia sedang terbang menuju Jakarta\n",
            "Pesawat Garuda Indonesia telah mendarat di Jakarta\n"
          ]
        }
      ],
      "source": [
        "class Pesawat:\n",
        "    def __init__(self, maskapai, tujuan):\n",
        "        self.maskapai = maskapai\n",
        "        self.tujuan = tujuan\n",
        "        self.status = \"Parkir\"\n",
        "\n",
        "    def info_pesawat(self):\n",
        "        print(f\"Pesawat {self.maskapai} dengan tujuan {self.tujuan} sedang dalam status: {self.status}\")\n",
        "\n",
        "    def terbang(self):\n",
        "        self.status = \"Terbang\"\n",
        "        print(f\"Pesawat {self.maskapai} sedang terbang menuju {self.tujuan}\")\n",
        "\n",
        "    def mendarat(self):\n",
        "        self.status = \"Mendarat\"\n",
        "        print(f\"Pesawat {self.maskapai} telah mendarat di {self.tujuan}\")\n",
        "\n",
        "# Membuat objek\n",
        "pesawat1 = Pesawat(\"Garuda Indonesia\", \"Jakarta\")\n",
        "pesawat1.info_pesawat()\n",
        "pesawat1.terbang()\n",
        "pesawat1.mendarat()"
      ]
    }
  ]
}