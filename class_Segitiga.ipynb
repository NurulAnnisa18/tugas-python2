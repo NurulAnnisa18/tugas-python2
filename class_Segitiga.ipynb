{
  "nbformat": 4,
  "nbformat_minor": 0,
  "metadata": {
    "colab": {
      "provenance": [],
      "toc_visible": true
    },
    "kernelspec": {
      "name": "python3",
      "display_name": "Python 3"
    },
    "language_info": {
      "name": "python"
    }
  },
  "cells": [
    {
      "cell_type": "code",
      "execution_count": 9,
      "metadata": {
        "colab": {
          "base_uri": "https://localhost:8080/"
        },
        "id": "mKGBJ5aE778h",
        "outputId": "0ecffbcb-22ca-47c8-c103-3abd9843af95"
      },
      "outputs": [
        {
          "output_type": "stream",
          "name": "stdout",
          "text": [
            "Segitiga dengan alas 10 dan tinggi 5 memiliki luas 25.0\n"
          ]
        }
      ],
      "source": [
        "class Segitiga:\n",
        "    def __init__(self, alas, tinggi):\n",
        "        self.alas = alas\n",
        "        self.tinggi = tinggi\n",
        "\n",
        "    def hitung_luas(self):\n",
        "        return 0.5 * self.alas * self.tinggi\n",
        "\n",
        "    def info_segitiga(self):\n",
        "        print(f\"Segitiga dengan alas {self.alas} dan tinggi {self.tinggi} memiliki luas {self.hitung_luas()}\")\n",
        "\n",
        "# Membuat objek\n",
        "segitiga1 = Segitiga(10, 5)\n",
        "segitiga1.info_segitiga()"
      ]
    }
  ]
}