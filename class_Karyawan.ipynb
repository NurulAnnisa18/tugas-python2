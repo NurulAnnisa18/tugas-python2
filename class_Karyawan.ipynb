{
  "nbformat": 4,
  "nbformat_minor": 0,
  "metadata": {
    "colab": {
      "provenance": [],
      "toc_visible": true
    },
    "kernelspec": {
      "name": "python3",
      "display_name": "Python 3"
    },
    "language_info": {
      "name": "python"
    }
  },
  "cells": [
    {
      "cell_type": "code",
      "execution_count": 8,
      "metadata": {
        "colab": {
          "base_uri": "https://localhost:8080/"
        },
        "id": "mKGBJ5aE778h",
        "outputId": "8bca3b43-8cbc-4d7f-dcb0-d7e9f605e418"
      },
      "outputs": [
        {
          "output_type": "stream",
          "name": "stdout",
          "text": [
            "Nama: Budi, Jabatan: Manager, Gaji: Rp10000000\n",
            "Gaji Budi naik menjadi Rp11000000.0\n"
          ]
        }
      ],
      "source": [
        "class Karyawan:\n",
        "    def __init__(self, nama, jabatan, gaji):\n",
        "        self.nama = nama\n",
        "        self.jabatan = jabatan\n",
        "        self.gaji = gaji\n",
        "\n",
        "    def info_karyawan(self):\n",
        "        print(f\"Nama: {self.nama}, Jabatan: {self.jabatan}, Gaji: Rp{self.gaji}\")\n",
        "\n",
        "    def naik_gaji(self, persentase):\n",
        "        self.gaji += self.gaji * (persentase / 100)\n",
        "        print(f\"Gaji {self.nama} naik menjadi Rp{self.gaji}\")\n",
        "\n",
        "# Membuat objek\n",
        "karyawan1 = Karyawan(\"Budi\", \"Manager\", 10000000)\n",
        "karyawan1.info_karyawan()\n",
        "karyawan1.naik_gaji(10)  # Naik gaji sebesar 10%"
      ]
    }
  ]
}