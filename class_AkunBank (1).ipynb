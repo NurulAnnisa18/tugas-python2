{
  "nbformat": 4,
  "nbformat_minor": 0,
  "metadata": {
    "colab": {
      "provenance": [],
      "toc_visible": true
    },
    "kernelspec": {
      "name": "python3",
      "display_name": "Python 3"
    },
    "language_info": {
      "name": "python"
    }
  },
  "cells": [
    {
      "cell_type": "code",
      "execution_count": 7,
      "metadata": {
        "colab": {
          "base_uri": "https://localhost:8080/"
        },
        "id": "mKGBJ5aE778h",
        "outputId": "ab64521e-5e95-48a8-d6db-0d7374a3e21c"
      },
      "outputs": [
        {
          "output_type": "stream",
          "name": "stdout",
          "text": [
            "Saldo Andi: Rp500000\n",
            "Deposit Rp200000 berhasil. Saldo sekarang: Rp700000\n",
            "Penarikan Rp100000 berhasil. Saldo sekarang: Rp600000\n"
          ]
        }
      ],
      "source": [
        "class AkunBank:\n",
        "    def __init__(self, pemilik, saldo):\n",
        "        self.pemilik = pemilik\n",
        "        self.saldo = saldo\n",
        "\n",
        "    def cek_saldo(self):\n",
        "        print(f\"Saldo {self.pemilik}: Rp{self.saldo}\")\n",
        "\n",
        "    def deposit(self, jumlah):\n",
        "        self.saldo += jumlah\n",
        "        print(f\"Deposit Rp{jumlah} berhasil. Saldo sekarang: Rp{self.saldo}\")\n",
        "\n",
        "    def tarik(self, jumlah):\n",
        "        if jumlah > self.saldo:\n",
        "            print(\"Saldo tidak mencukupi.\")\n",
        "        else:\n",
        "            self.saldo -= jumlah\n",
        "            print(f\"Penarikan Rp{jumlah} berhasil. Saldo sekarang: Rp{self.saldo}\")\n",
        "\n",
        "# Membuat objek\n",
        "akun1 = AkunBank(\"Andi\", 500000)\n",
        "akun1.cek_saldo()\n",
        "akun1.deposit(200000)\n",
        "akun1.tarik(100000)"
      ]
    }
  ]
}