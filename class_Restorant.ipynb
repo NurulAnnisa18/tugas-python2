{
  "nbformat": 4,
  "nbformat_minor": 0,
  "metadata": {
    "colab": {
      "provenance": [],
      "toc_visible": true
    },
    "kernelspec": {
      "name": "python3",
      "display_name": "Python 3"
    },
    "language_info": {
      "name": "python"
    }
  },
  "cells": [
    {
      "cell_type": "code",
      "execution_count": 11,
      "metadata": {
        "colab": {
          "base_uri": "https://localhost:8080/"
        },
        "id": "mKGBJ5aE778h",
        "outputId": "d55b25cf-9784-4a16-ebfa-cb3b647eac1e"
      },
      "outputs": [
        {
          "output_type": "stream",
          "name": "stdout",
          "text": [
            "Restoran Sederhana menyajikan makanan Padang.\n",
            "Pelanggan bertambah! Total pelanggan hari ini: 1\n",
            "Pelanggan bertambah! Total pelanggan hari ini: 2\n"
          ]
        }
      ],
      "source": [
        "class Restoran:\n",
        "    def __init__(self, nama, jenis_makanan):\n",
        "        self.nama = nama\n",
        "        self.jenis_makanan = jenis_makanan\n",
        "        self.pelanggan = 0\n",
        "\n",
        "    def info_restoran(self):\n",
        "        print(f\"Restoran {self.nama} menyajikan {self.jenis_makanan}.\")\n",
        "\n",
        "    def tambah_pelanggan(self):\n",
        "        self.pelanggan += 1\n",
        "        print(f\"Pelanggan bertambah! Total pelanggan hari ini: {self.pelanggan}\")\n",
        "\n",
        "# Membuat objek\n",
        "restoran1 = Restoran(\"Sederhana\", \"makanan Padang\")\n",
        "restoran1.info_restoran()\n",
        "restoran1.tambah_pelanggan()\n",
        "restoran1.tambah_pelanggan()"
      ]
    }
  ]
}